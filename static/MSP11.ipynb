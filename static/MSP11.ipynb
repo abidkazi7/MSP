{
 "cells": [
  {
   "cell_type": "code",
   "execution_count": 3,
   "metadata": {},
   "outputs": [],
   "source": [
    "import numpy as np\n",
    "import pandas as pd\n",
    "import random\n",
    "from sklearn.metrics import mean_squared_error, r2_score\n",
    "\n",
    "def read_dataset(n):\n",
    "    df = pd.read_csv(n)\n",
    "    all_commodities={}\n",
    "    cnt=0\n",
    "\n",
    "    for i in range(len(df)):\n",
    "        if df.loc[i]['Crops'] not in all_commodities:\n",
    "            all_commodities[df.loc[i]['Crops']]=cnt\n",
    "            cnt+=1\n",
    "        \n",
    "    all_years={}\n",
    "    cnt=0\n",
    "\n",
    "    for i in range(len(df)):\n",
    "        if df.loc[i]['Year'] not in all_years:\n",
    "            all_years[df.loc[i]['Year']]=cnt\n",
    "            cnt+=1\n",
    "            \n",
    "    print(all_commodities)\n",
    "    print(all_years)\n",
    "    \n",
    "    x =df[['Crops','Year','Area_Agricultural','Production','Yield','Cost_Production','Import','Export']] #input features\n",
    "    y=df[['MSP']] #to be predicted by model\n",
    "\n",
    "    x=np.array(x)\n",
    "    y=np.array(y)\n",
    "\n",
    "    # convert x and y to integer values\n",
    "\n",
    "    for i in range(len(x)):\n",
    "        x[i][0]=all_commodities[x[i][0]]\n",
    "        x[i][1]=all_years[x[i][1]] \n",
    "        x[i][2]=df.loc[i]['Area_Agricultural']\n",
    "        x[i][3]=df.loc[i]['Production']\n",
    "        x[i][4]=df.loc[i]['Yield']\n",
    "        x[i][5]=df.loc[i]['Cost_Production']\n",
    "        x[i][6]=df.loc[i]['Import']\n",
    "        x[i][7]=df.loc[i]['Export']\n",
    "            \n",
    "            \n",
    "        \n",
    "\n",
    "    #convert x and y from object to int\n",
    "\n",
    "\n",
    "    x= np.array(x,dtype='int32')\n",
    "    y= np.array(y,dtype='int32')\n",
    "\n",
    "    y=y.ravel()\n",
    "\n",
    "    np.unique(y,return_counts=True)\n",
    "    \n",
    "    from  sklearn.model_selection import train_test_split\n",
    "    x_train,x_test,y_train,y_test = train_test_split(x,y ,test_size=0.2,random_state=10)\n",
    "    \n",
    "    from sklearn.linear_model import LinearRegression\n",
    "    \n",
    "    regressor = LinearRegression()\n",
    "    regressor.fit(x,y)\n",
    "    \n",
    "    y_pred = regressor.predict(x_test)\n",
    "    R2=r2_score(y_test,y_pred)\n",
    "    \n",
    "    print(\"\\n R2:\",R2)\n",
    "    \n",
    "    print(\"\\n MSE:\",mean_squared_error(y_test, y_pred))\n",
    "    \n",
    "    print(\"\\n RMSE:\",np.sqrt(mean_squared_error(y_test, y_pred)))\n",
    "\n",
    "crops_path={1:'C:/Users/Urja Niyojan/Desktop/MyProject/Data_Main5_Except_DP_IP_Single_Rice.csv',\n",
    "           2:'C:/Users/Urja Niyojan/Desktop/MyProject/Data_Main5_Except_DP_IP_Single_Cotton.csv',\n",
    "           3:'C:/Users/Urja Niyojan/Desktop/MyProject/Data_Main5_Except_DP_IP_Single_Groundnut.csv'}\n",
    "    "
   ]
  },
  {
   "cell_type": "code",
   "execution_count": 6,
   "metadata": {},
   "outputs": [
    {
     "name": "stdout",
     "output_type": "stream",
     "text": [
      "{'Rice': 0}\n",
      "{'2010-11': 0, '2011-12': 1, '2012-13': 2, '2013-14': 3, '2014-15': 4, '2015-16': 5, '2016-17': 6, '2017-18': 7, '2018-19': 8, '2019-20': 9, '2020-21': 10}\n",
      "\n",
      " R2: 0.9972639841974444\n",
      "\n",
      " MSE: 114.54786160032653\n",
      "\n",
      " RMSE: 10.702703471568599\n"
     ]
    }
   ],
   "source": [
    "\n",
    "read_dataset(crops_path[1])"
   ]
  },
  {
   "cell_type": "code",
   "execution_count": null,
   "metadata": {},
   "outputs": [],
   "source": [
    "   "
   ]
  },
  {
   "cell_type": "code",
   "execution_count": null,
   "metadata": {},
   "outputs": [],
   "source": []
  },
  {
   "cell_type": "code",
   "execution_count": null,
   "metadata": {},
   "outputs": [],
   "source": []
  }
 ],
 "metadata": {
  "kernelspec": {
   "display_name": "Python 3",
   "language": "python",
   "name": "python3"
  },
  "language_info": {
   "codemirror_mode": {
    "name": "ipython",
    "version": 3
   },
   "file_extension": ".py",
   "mimetype": "text/x-python",
   "name": "python",
   "nbconvert_exporter": "python",
   "pygments_lexer": "ipython3",
   "version": "3.8.3"
  }
 },
 "nbformat": 4,
 "nbformat_minor": 4
}
